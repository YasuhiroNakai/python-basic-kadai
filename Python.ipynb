{
  "nbformat": 4,
  "nbformat_minor": 0,
  "metadata": {
    "colab": {
      "provenance": [],
      "authorship_tag": "ABX9TyP9P5vpoUz0QyGJ+AqqGi4a",
      "include_colab_link": true
    },
    "kernelspec": {
      "name": "python3",
      "display_name": "Python 3"
    },
    "language_info": {
      "name": "python"
    }
  },
  "cells": [
    {
      "cell_type": "markdown",
      "metadata": {
        "id": "view-in-github",
        "colab_type": "text"
      },
      "source": [
        "<a href=\"https://colab.research.google.com/github/YasuhiroNakai/python-basic-kadai/blob/main/Python.ipynb\" target=\"_parent\"><img src=\"https://colab.research.google.com/assets/colab-badge.svg\" alt=\"Open In Colab\"/></a>"
      ]
    },
    {
      "cell_type": "code",
      "execution_count": null,
      "metadata": {
        "colab": {
          "base_uri": "https://localhost:8080/"
        },
        "id": "rg7t_VWozznx",
        "outputId": "5d9cb21c-2f3f-42ec-9b41-a58e053836ed"
      },
      "outputs": [
        {
          "output_type": "stream",
          "name": "stdout",
          "text": [
            "お酒で乾杯！\n"
          ]
        }
      ],
      "source": [
        "age = 18 #年齢\n",
        "\n",
        "if age < 20:\n",
        "  # 未成年の場合\n",
        "  print(\"ジュースで乾杯！\")\n",
        "else:\n",
        "  # 成年の場合\n",
        "  print(\"お酒で乾杯！\")"
      ]
    },
    {
      "cell_type": "code",
      "source": [
        "jyohen = 10\n",
        "kahen = 20\n",
        "takasa = 5\n",
        "\n",
        "menseki = (jyohen + kahen) * takasa / 2\n",
        "\n",
        "print(str(menseki) + \"㎠\")\n"
      ],
      "metadata": {
        "colab": {
          "base_uri": "https://localhost:8080/"
        },
        "id": "m7Hii4q-0InJ",
        "outputId": "001efae9-96c5-4e1e-ae53-f0d8cbfff115"
      },
      "execution_count": null,
      "outputs": [
        {
          "output_type": "stream",
          "name": "stdout",
          "text": [
            "75.0㎠\n"
          ]
        }
      ]
    },
    {
      "cell_type": "code",
      "source": [],
      "metadata": {
        "id": "5fK4nBlO0uzY",
        "colab": {
          "base_uri": "https://localhost:8080/"
        },
        "outputId": "602b4e21-8754-4c0e-baa9-3551f4f685c9"
      },
      "execution_count": null,
      "outputs": [
        {
          "output_type": "stream",
          "name": "stdout",
          "text": [
            "晴れ晴れ晴れ晴れ晴れ\n",
            "晴れ晴れ晴れ晴れ晴れ\n"
          ]
        }
      ]
    }
  ]
}